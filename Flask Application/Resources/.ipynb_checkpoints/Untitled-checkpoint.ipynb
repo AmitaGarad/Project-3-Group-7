{
 "cells": [
  {
   "cell_type": "code",
   "execution_count": null,
   "id": "68e15e57",
   "metadata": {},
   "outputs": [],
   "source": [
    "#convert jsonl to json\n",
    "import pandas as pd\n",
    "\n",
    "# Read data from influencer_data.jsonl\n",
    "df = pd.read_json('influencer_data.jsonl', lines=True)\n",
    "\n",
    "# Export DataFrame to JSON file\n",
    "df.to_json('influencer_data.json', orient='records', lines=False)"
   ]
  }
 ],
 "metadata": {
  "kernelspec": {
   "display_name": "Python 3 (ipykernel)",
   "language": "python",
   "name": "python3"
  }
 },
 "nbformat": 4,
 "nbformat_minor": 5
}
