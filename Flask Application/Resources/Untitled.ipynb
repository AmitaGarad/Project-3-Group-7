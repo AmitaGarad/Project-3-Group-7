{
 "cells": [
  {
   "cell_type": "code",
   "execution_count": 1,
   "id": "b815685d",
   "metadata": {},
   "outputs": [],
   "source": [
    "#convert jsonl to json\n",
    "import pandas as pd\n",
    "\n",
    "# Read data from influencer_data.jsonl\n",
    "df = pd.read_json('influencer_data.jsonl', lines=True)\n",
    "\n",
    "# Export DataFrame to JSON file\n",
    "df.to_json('influencer_data.json', orient='records', lines=False)"
   ]
  }
 ],
 "metadata": {
  "kernelspec": {
   "display_name": "Python 3 (ipykernel)",
   "language": "python",
   "name": "python3"
  },
  "language_info": {
   "codemirror_mode": {
    "name": "ipython",
    "version": 3
   },
   "file_extension": ".py",
   "mimetype": "text/x-python",
   "name": "python",
   "nbconvert_exporter": "python",
   "pygments_lexer": "ipython3",
   "version": "3.10.13"
  }
 },
 "nbformat": 4,
 "nbformat_minor": 5
}
