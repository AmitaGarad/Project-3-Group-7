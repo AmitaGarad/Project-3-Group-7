{
 "cells": [
  {
   "cell_type": "code",
   "execution_count": 2,
   "id": "1180f61b",
   "metadata": {},
   "outputs": [],
   "source": [
    "#importing libraries\n",
    "import pandas as pd"
   ]
  },
  {
   "cell_type": "code",
   "execution_count": 10,
   "id": "fc790a27",
   "metadata": {},
   "outputs": [
    {
     "name": "stdout",
     "output_type": "stream",
     "text": [
      "   s.no Youtube_channel               Youtuber_name       Category  \\\n",
      "0     1         tseries                    T-Series  Music & Dance   \n",
      "1     2        setindia                   SET India         Others   \n",
      "2     3       checkgate  Cocomelon - Nursery Rhymes      Education   \n",
      "3     4         MrBeast                     MrBeast    Video games   \n",
      "4     5       PewDiePie                   PewDiePie      Animation   \n",
      "\n",
      "  Subscribers        Country Average_view Average_likes Average_comments  \\\n",
      "0      229.5M          India       103.8K          2.8K              158   \n",
      "1      147.2M          India            0             0                0   \n",
      "2      146.6M        Unknown         9.5M         48.3K                0   \n",
      "3        117M  United States        68.5M          2.9M            99.9K   \n",
      "4      111.6M  United States         1.4M        110.7K             7.8K   \n",
      "\n",
      "  Sub-category        Date  \n",
      "0       Others   12/8/2022  \n",
      "1       Others  12/27/2022  \n",
      "2       Others  12/23/2022  \n",
      "3        Humor  12/19/2022  \n",
      "4       Others  12/28/2022  \n"
     ]
    }
   ],
   "source": [
    "#read in datasets\n",
    "sept_data = pd.read_csv('../Resources/Sept_clean_data.csv')\n",
    "nov_data = pd.read_csv('../Resources/Nov_clean_data.csv')\n",
    "dec_data = pd.read_csv('../Resources/Dec_clean_data.csv')\n",
    "\n",
    "# print(sept_data.head())\n",
    "# print(nov_data.head())\n",
    "print(dec_data.head())"
   ]
  },
  {
   "cell_type": "code",
   "execution_count": 13,
   "id": "ca767c32",
   "metadata": {},
   "outputs": [],
   "source": [
    "#Clean datasets\n",
    "columns = ['S.No', 'Youtube_channel', 'Youtuber_name', 'Category', 'Subscribers',\n",
    "           'Country', 'Average_view', 'Average_likes', 'Average_comments',\n",
    "           'Sub-category', 'Date']\n",
    "\n",
    "sept_data.columns = columns\n",
    "nov_data.columns = columns\n",
    "dec_data.columns = columns\n",
    "\n",
    "# Change the values in the 'Date' column to reflect the respective months and year\n",
    "sept_data['Date'] = pd.to_datetime('2022-09-01').strftime('%B-%Y')\n",
    "nov_data['Date'] = pd.to_datetime('2022-11-01').strftime('%B-%Y')\n",
    "dec_data['Date'] = pd.to_datetime('2022-12-01').strftime('%B-%Y')\n",
    "\n",
    "\n",
    "sept_data['Country'] == 'Jordan'"
   ]
  },
  {
   "cell_type": "code",
   "execution_count": null,
   "id": "c02b4120",
   "metadata": {},
   "outputs": [],
   "source": [
    "# Save each DataFrame to a CSV file\n",
    "sept_data.to_csv('../Resources/Sept_clean_data_v2.csv', index=False)\n",
    "nov_data.to_csv('../Resources/Nov_clean_data_v2.csv', index=False)\n",
    "dec_data.to_csv('../Resources/Dec_clean_data_v2.csv', index=False)"
   ]
  },
  {
   "cell_type": "code",
   "execution_count": null,
   "id": "4c0457bf",
   "metadata": {},
   "outputs": [],
   "source": [
    "# # Merge datasets -- need to edit names if going to include\n",
    "# # Merge sept_data with nov_data using 'Youtube_channel' column\n",
    "# merged_df = pd.merge(sept_data, nov_data, on='Youtube_channel', how='inner')\n",
    "\n",
    "# # Merge the result with dec_data using 'Youtube_channel' column\n",
    "# merged_df = pd.merge(merged_df, dec_data, on='Youtube_channel', how='inner')\n",
    "\n",
    "# # Display the merged DataFrame\n",
    "# print(merged_df)"
   ]
  }
 ],
 "metadata": {
  "kernelspec": {
   "display_name": "Python 3 (ipykernel)",
   "language": "python",
   "name": "python3"
  },
  "language_info": {
   "codemirror_mode": {
    "name": "ipython",
    "version": 3
   },
   "file_extension": ".py",
   "mimetype": "text/x-python",
   "name": "python",
   "nbconvert_exporter": "python",
   "pygments_lexer": "ipython3",
   "version": "3.10.13"
  }
 },
 "nbformat": 4,
 "nbformat_minor": 5
}
