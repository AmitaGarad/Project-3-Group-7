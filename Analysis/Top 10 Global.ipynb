{
 "cells": [
  {
   "cell_type": "code",
   "execution_count": 1,
   "id": "2e71dac6",
   "metadata": {},
   "outputs": [],
   "source": [
    "#importing libraries\n",
    "import pandas as pd\n",
    "import matplotlib.pyplot as plt\n",
    "import seaborn as sns\n",
    "import plotly.express as px\n"
   ]
  },
  {
   "cell_type": "code",
   "execution_count": 2,
   "id": "b730bc08",
   "metadata": {},
   "outputs": [],
   "source": [
    "sep_ = pd.read_csv(\"../Resources/Sept_clean_data.csv\")\n",
    "nov_ = pd.read_csv(\"../Resources/Nov_clean_data.csv\")\n",
    "dec_ = pd.read_csv(\"../Resources/Dec_clean_data.csv\")"
   ]
  },
  {
   "cell_type": "code",
   "execution_count": 4,
   "id": "30c04249",
   "metadata": {},
   "outputs": [
    {
     "data": {
      "text/plain": [
       "Index(['S.no', 'Youtube_channel', 'Youtuber_name', 'Category', 'Subscribers',\n",
       "       'Country', 'Average_view', 'Average_likes', 'Average_comments',\n",
       "       'Sub-category', 'Date'],\n",
       "      dtype='object')"
      ]
     },
     "execution_count": 4,
     "metadata": {},
     "output_type": "execute_result"
    }
   ],
   "source": [
    "sep_.columns"
   ]
  },
  {
   "cell_type": "code",
   "execution_count": 5,
   "id": "1889adf6",
   "metadata": {},
   "outputs": [
    {
     "data": {
      "text/plain": [
       "Index(['s.no', 'Youtube_channel', 'Youtuber_name', 'Category', 'Subscribers',\n",
       "       'Country', '\\r\\nViews (Avg.)', 'Average_likes', 'Average_comments',\n",
       "       'Sub-category', 'Date'],\n",
       "      dtype='object')"
      ]
     },
     "execution_count": 5,
     "metadata": {},
     "output_type": "execute_result"
    }
   ],
   "source": [
    "nov_.columns"
   ]
  },
  {
   "cell_type": "code",
   "execution_count": 6,
   "id": "75d725f9",
   "metadata": {},
   "outputs": [
    {
     "data": {
      "text/plain": [
       "Index(['s.no', 'Youtube_channel', 'Youtuber_name', 'Category', 'Subscribers',\n",
       "       'Country', 'Average_view', 'Average_likes', 'Average_comments',\n",
       "       'Sub-category', 'Date'],\n",
       "      dtype='object')"
      ]
     },
     "execution_count": 6,
     "metadata": {},
     "output_type": "execute_result"
    }
   ],
   "source": [
    "dec_.columns"
   ]
  },
  {
   "cell_type": "code",
   "execution_count": 7,
   "id": "f111a4df",
   "metadata": {},
   "outputs": [
    {
     "data": {
      "text/html": [
       "<div>\n",
       "<style scoped>\n",
       "    .dataframe tbody tr th:only-of-type {\n",
       "        vertical-align: middle;\n",
       "    }\n",
       "\n",
       "    .dataframe tbody tr th {\n",
       "        vertical-align: top;\n",
       "    }\n",
       "\n",
       "    .dataframe thead th {\n",
       "        text-align: right;\n",
       "    }\n",
       "</style>\n",
       "<table border=\"1\" class=\"dataframe\">\n",
       "  <thead>\n",
       "    <tr style=\"text-align: right;\">\n",
       "      <th></th>\n",
       "      <th>Name</th>\n",
       "      <th>Age</th>\n",
       "      <th>Sex</th>\n",
       "      <th>Country of Origin</th>\n",
       "      <th>State or Province</th>\n",
       "      <th>Education Level</th>\n",
       "      <th>MBTI Personality</th>\n",
       "      <th>Lifestyle</th>\n",
       "      <th>Backstory</th>\n",
       "    </tr>\n",
       "  </thead>\n",
       "  <tbody>\n",
       "    <tr>\n",
       "      <th>0</th>\n",
       "      <td>Andre Mcclain</td>\n",
       "      <td>23</td>\n",
       "      <td>male</td>\n",
       "      <td>USA</td>\n",
       "      <td>South Carolina</td>\n",
       "      <td>High School</td>\n",
       "      <td>INFP</td>\n",
       "      <td>architecture</td>\n",
       "      <td>Andre Mcclain grew up in a small town in South...</td>\n",
       "    </tr>\n",
       "    <tr>\n",
       "      <th>1</th>\n",
       "      <td>Gregory Joseph</td>\n",
       "      <td>19</td>\n",
       "      <td>male</td>\n",
       "      <td>USA</td>\n",
       "      <td>Iowa</td>\n",
       "      <td>High School</td>\n",
       "      <td>ISFP</td>\n",
       "      <td>diy</td>\n",
       "      <td>Gregory Joseph was born and raised in a small ...</td>\n",
       "    </tr>\n",
       "    <tr>\n",
       "      <th>2</th>\n",
       "      <td>William Wall</td>\n",
       "      <td>23</td>\n",
       "      <td>male</td>\n",
       "      <td>USA</td>\n",
       "      <td>Oregon</td>\n",
       "      <td>High School</td>\n",
       "      <td>ISFP</td>\n",
       "      <td>pets</td>\n",
       "      <td>William Wall was born and raised in the lush g...</td>\n",
       "    </tr>\n",
       "    <tr>\n",
       "      <th>3</th>\n",
       "      <td>Virginia Chapman</td>\n",
       "      <td>24</td>\n",
       "      <td>female</td>\n",
       "      <td>USA</td>\n",
       "      <td>Pennsylvania</td>\n",
       "      <td>Bachelor</td>\n",
       "      <td>ISFJ</td>\n",
       "      <td>cooking</td>\n",
       "      <td>Virginia Chapman was born and raised in a smal...</td>\n",
       "    </tr>\n",
       "    <tr>\n",
       "      <th>4</th>\n",
       "      <td>Deborah Potter</td>\n",
       "      <td>33</td>\n",
       "      <td>female</td>\n",
       "      <td>Canada</td>\n",
       "      <td>Quebec</td>\n",
       "      <td>Bachelor</td>\n",
       "      <td>ESTP</td>\n",
       "      <td>dancing</td>\n",
       "      <td>Deborah Potter was born and raised in Quebec, ...</td>\n",
       "    </tr>\n",
       "  </tbody>\n",
       "</table>\n",
       "</div>"
      ],
      "text/plain": [
       "               Name  Age     Sex Country of Origin State or Province  \\\n",
       "0     Andre Mcclain   23    male               USA    South Carolina   \n",
       "1    Gregory Joseph   19    male               USA              Iowa   \n",
       "2      William Wall   23    male               USA            Oregon   \n",
       "3  Virginia Chapman   24  female               USA      Pennsylvania   \n",
       "4    Deborah Potter   33  female            Canada            Quebec   \n",
       "\n",
       "  Education Level MBTI Personality     Lifestyle  \\\n",
       "0     High School             INFP  architecture   \n",
       "1     High School             ISFP           diy   \n",
       "2     High School             ISFP          pets   \n",
       "3        Bachelor             ISFJ       cooking   \n",
       "4        Bachelor             ESTP       dancing   \n",
       "\n",
       "                                           Backstory  \n",
       "0  Andre Mcclain grew up in a small town in South...  \n",
       "1  Gregory Joseph was born and raised in a small ...  \n",
       "2  William Wall was born and raised in the lush g...  \n",
       "3  Virginia Chapman was born and raised in a smal...  \n",
       "4  Deborah Potter was born and raised in Quebec, ...  "
      ]
     },
     "execution_count": 7,
     "metadata": {},
     "output_type": "execute_result"
    }
   ],
   "source": [
    "df = pd.read_json('../Resources/influencer_data.jsonl', lines=True)\n",
    "df.head()"
   ]
  },
  {
   "cell_type": "code",
   "execution_count": 23,
   "id": "82c7068a",
   "metadata": {},
   "outputs": [
    {
     "data": {
      "text/html": [
       "<div>\n",
       "<style scoped>\n",
       "    .dataframe tbody tr th:only-of-type {\n",
       "        vertical-align: middle;\n",
       "    }\n",
       "\n",
       "    .dataframe tbody tr th {\n",
       "        vertical-align: top;\n",
       "    }\n",
       "\n",
       "    .dataframe thead th {\n",
       "        text-align: right;\n",
       "    }\n",
       "</style>\n",
       "<table border=\"1\" class=\"dataframe\">\n",
       "  <thead>\n",
       "    <tr style=\"text-align: right;\">\n",
       "      <th></th>\n",
       "      <th>Name</th>\n",
       "      <th>Age</th>\n",
       "      <th>Sex</th>\n",
       "      <th>Country of Origin</th>\n",
       "      <th>State or Province</th>\n",
       "      <th>Education Level</th>\n",
       "      <th>MBTI Personality</th>\n",
       "      <th>Lifestyle</th>\n",
       "      <th>Backstory</th>\n",
       "    </tr>\n",
       "  </thead>\n",
       "  <tbody>\n",
       "    <tr>\n",
       "      <th>10033</th>\n",
       "      <td>Tommy Hicks</td>\n",
       "      <td>18</td>\n",
       "      <td>male</td>\n",
       "      <td>USA</td>\n",
       "      <td>Ohio</td>\n",
       "      <td>High School</td>\n",
       "      <td>INFP</td>\n",
       "      <td>astrology</td>\n",
       "      <td>Tommy Hicks was born and raised in a small tow...</td>\n",
       "    </tr>\n",
       "    <tr>\n",
       "      <th>13615</th>\n",
       "      <td>Pamela Decker</td>\n",
       "      <td>18</td>\n",
       "      <td>female</td>\n",
       "      <td>USA</td>\n",
       "      <td>Tennessee</td>\n",
       "      <td>High School</td>\n",
       "      <td>ENTJ</td>\n",
       "      <td>politics</td>\n",
       "      <td>Pamela Decker was born and raised in the small...</td>\n",
       "    </tr>\n",
       "    <tr>\n",
       "      <th>26846</th>\n",
       "      <td>Stephanie Chavez</td>\n",
       "      <td>18</td>\n",
       "      <td>female</td>\n",
       "      <td>USA</td>\n",
       "      <td>Texas</td>\n",
       "      <td>High School</td>\n",
       "      <td>ISFP</td>\n",
       "      <td>gardening</td>\n",
       "      <td>Stephanie Chavez was born and raised in the he...</td>\n",
       "    </tr>\n",
       "    <tr>\n",
       "      <th>7232</th>\n",
       "      <td>Janice Green</td>\n",
       "      <td>18</td>\n",
       "      <td>female</td>\n",
       "      <td>USA</td>\n",
       "      <td>Idaho</td>\n",
       "      <td>High School</td>\n",
       "      <td>ESFP</td>\n",
       "      <td>diy</td>\n",
       "      <td>Janice Green was born and raised in the small ...</td>\n",
       "    </tr>\n",
       "    <tr>\n",
       "      <th>19378</th>\n",
       "      <td>Andrea Taylor</td>\n",
       "      <td>18</td>\n",
       "      <td>female</td>\n",
       "      <td>USA</td>\n",
       "      <td>New York</td>\n",
       "      <td>High School</td>\n",
       "      <td>ENTJ</td>\n",
       "      <td>politics</td>\n",
       "      <td>Andrea Taylor was born and raised in the bustl...</td>\n",
       "    </tr>\n",
       "    <tr>\n",
       "      <th>7237</th>\n",
       "      <td>Kevin Elliott</td>\n",
       "      <td>18</td>\n",
       "      <td>male</td>\n",
       "      <td>USA</td>\n",
       "      <td>Kentucky</td>\n",
       "      <td>High School</td>\n",
       "      <td>ENFP</td>\n",
       "      <td>comedy</td>\n",
       "      <td>Kevin Elliott was born and raised in a small t...</td>\n",
       "    </tr>\n",
       "    <tr>\n",
       "      <th>24397</th>\n",
       "      <td>Joel Carter</td>\n",
       "      <td>18</td>\n",
       "      <td>male</td>\n",
       "      <td>USA</td>\n",
       "      <td>Georgia</td>\n",
       "      <td>High School</td>\n",
       "      <td>INTP</td>\n",
       "      <td>engineering</td>\n",
       "      <td>Joel Carter was born and raised in a small tow...</td>\n",
       "    </tr>\n",
       "    <tr>\n",
       "      <th>13601</th>\n",
       "      <td>Tiffany Owens</td>\n",
       "      <td>18</td>\n",
       "      <td>female</td>\n",
       "      <td>Canada</td>\n",
       "      <td>Ontario</td>\n",
       "      <td>High School</td>\n",
       "      <td>ESFJ</td>\n",
       "      <td>health</td>\n",
       "      <td>Tiffany Owens was born and raised in the bustl...</td>\n",
       "    </tr>\n",
       "    <tr>\n",
       "      <th>19401</th>\n",
       "      <td>Ms. Tiffany Sanders</td>\n",
       "      <td>18</td>\n",
       "      <td>female</td>\n",
       "      <td>USA</td>\n",
       "      <td>Texas</td>\n",
       "      <td>High School</td>\n",
       "      <td>INTP</td>\n",
       "      <td>engineering</td>\n",
       "      <td>Ms. Tiffany Sanders was born and raised in a s...</td>\n",
       "    </tr>\n",
       "    <tr>\n",
       "      <th>2704</th>\n",
       "      <td>Kathleen Dillon</td>\n",
       "      <td>18</td>\n",
       "      <td>female</td>\n",
       "      <td>USA</td>\n",
       "      <td>Texas</td>\n",
       "      <td>No High School</td>\n",
       "      <td>INFP</td>\n",
       "      <td>astrology</td>\n",
       "      <td>Kathleen Dillon was born and raised in a small...</td>\n",
       "    </tr>\n",
       "  </tbody>\n",
       "</table>\n",
       "</div>"
      ],
      "text/plain": [
       "                      Name  Age     Sex Country of Origin State or Province  \\\n",
       "10033          Tommy Hicks   18    male               USA              Ohio   \n",
       "13615        Pamela Decker   18  female               USA         Tennessee   \n",
       "26846     Stephanie Chavez   18  female               USA             Texas   \n",
       "7232          Janice Green   18  female               USA             Idaho   \n",
       "19378        Andrea Taylor   18  female               USA          New York   \n",
       "7237         Kevin Elliott   18    male               USA          Kentucky   \n",
       "24397          Joel Carter   18    male               USA           Georgia   \n",
       "13601        Tiffany Owens   18  female            Canada           Ontario   \n",
       "19401  Ms. Tiffany Sanders   18  female               USA             Texas   \n",
       "2704       Kathleen Dillon   18  female               USA             Texas   \n",
       "\n",
       "      Education Level MBTI Personality    Lifestyle  \\\n",
       "10033     High School             INFP    astrology   \n",
       "13615     High School             ENTJ     politics   \n",
       "26846     High School             ISFP    gardening   \n",
       "7232      High School             ESFP          diy   \n",
       "19378     High School             ENTJ     politics   \n",
       "7237      High School             ENFP       comedy   \n",
       "24397     High School             INTP  engineering   \n",
       "13601     High School             ESFJ       health   \n",
       "19401     High School             INTP  engineering   \n",
       "2704   No High School             INFP    astrology   \n",
       "\n",
       "                                               Backstory  \n",
       "10033  Tommy Hicks was born and raised in a small tow...  \n",
       "13615  Pamela Decker was born and raised in the small...  \n",
       "26846  Stephanie Chavez was born and raised in the he...  \n",
       "7232   Janice Green was born and raised in the small ...  \n",
       "19378  Andrea Taylor was born and raised in the bustl...  \n",
       "7237   Kevin Elliott was born and raised in a small t...  \n",
       "24397  Joel Carter was born and raised in a small tow...  \n",
       "13601  Tiffany Owens was born and raised in the bustl...  \n",
       "19401  Ms. Tiffany Sanders was born and raised in a s...  \n",
       "2704   Kathleen Dillon was born and raised in a small...  "
      ]
     },
     "execution_count": 23,
     "metadata": {},
     "output_type": "execute_result"
    }
   ],
   "source": [
    "df[df['Age']<=25].sort_values(by='Age', ascending=True).head(10)"
   ]
  },
  {
   "cell_type": "code",
   "execution_count": 25,
   "id": "fcd00d5a",
   "metadata": {},
   "outputs": [
    {
     "data": {
      "text/plain": [
       "15246"
      ]
     },
     "execution_count": 25,
     "metadata": {},
     "output_type": "execute_result"
    }
   ],
   "source": [
    "df[df['Age']==18].size"
   ]
  },
  {
   "cell_type": "code",
   "execution_count": 28,
   "id": "7cebac3e",
   "metadata": {},
   "outputs": [
    {
     "name": "stdout",
     "output_type": "stream",
     "text": [
      "S.no\n",
      "Youtube_channel\n",
      "Youtuber_name\n",
      "Category\n",
      "Subscribers\n",
      "Country\n",
      "Average_view\n",
      "Average_likes\n",
      "Average_comments\n",
      "Sub-category\n",
      "Date\n"
     ]
    }
   ],
   "source": [
    "for i in sep_.columns:\n",
    "    print(i)"
   ]
  },
  {
   "cell_type": "code",
   "execution_count": 29,
   "id": "3b10d3c0",
   "metadata": {},
   "outputs": [
    {
     "name": "stdout",
     "output_type": "stream",
     "text": [
      "s.no\n",
      "Youtube_channel\n",
      "Youtuber_name\n",
      "Category\n",
      "Subscribers\n",
      "Country\n",
      "\r\n",
      "Views (Avg.)\n",
      "Average_likes\n",
      "Average_comments\n",
      "Sub-category\n",
      "Date\n"
     ]
    }
   ],
   "source": [
    "for i in nov_.columns:\n",
    "    print(i)"
   ]
  },
  {
   "cell_type": "code",
   "execution_count": 30,
   "id": "b9560691",
   "metadata": {},
   "outputs": [
    {
     "name": "stdout",
     "output_type": "stream",
     "text": [
      "s.no\n",
      "Youtube_channel\n",
      "Youtuber_name\n",
      "Category\n",
      "Subscribers\n",
      "Country\n",
      "Average_view\n",
      "Average_likes\n",
      "Average_comments\n",
      "Sub-category\n",
      "Date\n"
     ]
    }
   ],
   "source": [
    "for i in dec_.columns:\n",
    "    print(i)"
   ]
  },
  {
   "cell_type": "code",
   "execution_count": null,
   "id": "997e3a6a",
   "metadata": {},
   "outputs": [],
   "source": []
  }
 ],
 "metadata": {
  "kernelspec": {
   "display_name": "Python 3 (ipykernel)",
   "language": "python",
   "name": "python3"
  },
  "language_info": {
   "codemirror_mode": {
    "name": "ipython",
    "version": 3
   },
   "file_extension": ".py",
   "mimetype": "text/x-python",
   "name": "python",
   "nbconvert_exporter": "python",
   "pygments_lexer": "ipython3",
   "version": "3.10.13"
  }
 },
 "nbformat": 4,
 "nbformat_minor": 5
}
